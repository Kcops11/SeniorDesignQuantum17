{
 "cells": [
  {
   "cell_type": "markdown",
   "metadata": {},
   "source": [
    "## This notebook is summary for the following paper : When Entanglement Meets Classical Communications: Quantum Teleportation for the Quantum Internet.\n",
    "\n",
    "DOI : 10.1109/TCOMM.2020.2978071\n",
    "\n",
    "### Introduction\n",
    "... In contrast, a qubit can be in a superposition of the two basis states (See Sec. 2). Hence, while n classical bits are only ever in one of the $2^n$ possible states at any given moment, an n-qubit register can be a superposition of all of the possible states.\n",
    "\n",
    "Unfortunately, quantum mechanics does not allow an unknown qubit to be copied or observed/measured [17][18]. Hence, although we can map a qubit to a poton that can be directly trnsmitted to a remote node via a fiber link or free space, if the trabeling photon is lost due to attenuation or it is corrupted by noise, the assoicated quantum information cannot be recovered via a measuring process or y re-trasmitting a copy of the original information.\n",
    "\n",
    "Hence the direct transmission of qubits remains limited to relatively short distances at thetimeof writing in the context of specific applications that can tolerate low transmission success rate, such as Quantum Key Distribution and Quantum Secure Direct Coomunication networks. \n",
    "\n",
    "Thankfully, quantum teleportation, constitutes an astonishing streategy for \"transmitting\" qubits within a quantum network, *without the physical transfer of the particle stroing the qubit.*\n",
    "\n",
    "\n",
    "One of these resources is classical : **twobits must be transmitted from the source to the destination.** The otheris quantum : **entangled pair of qubits**\n",
    "\n",
    "...Specifically, similarly to classical communications, quantum communications are subject to the imperfections imposed by the deleterious effects of the environment. These imperfections ar termed as *decoherence* -a type of quantum noise with no direct counterpart in the classical world. Understandng decoherence is pivotal for the design of efficient quantum communication techniques and protocols. Hence, in Sec V, we highlight the theoretical framework of quantum noise modeling from a communications engineering perspective to allow the reader : \n",
    "    To recognise that the quantum-domain noise is multiplicative rather than being additive an it exhibits an asymmetric behavior with respect to the three Cartesian coordinates representing a qubit. \n",
    "\n"
   ]
  },
  {
   "cell_type": "markdown",
   "metadata": {},
   "source": [
    "#### *A. Outline and Contributions*\n",
    "\n",
    "The of objective of this treatise is to depart from the classcial Shannonian communication system model in order to account for the peculiarities of quantum mechanics.\n",
    "\n"
   ]
  },
  {
   "cell_type": "markdown",
   "metadata": {},
   "source": [
    "## II Background\n",
    "In this section, we introduce some preliminaries on quantum mechanics.\n",
    "\n",
    "### A. Hilbert Space\n",
    "Hilbert space. This complex vector space is known as the state space of the system. \n",
    "The simplest quantum mechanical system is the quantum bit(qubit), whose state space is two dimemsional. \n",
    "The most commonly used basis is the standard basis, which corresponds to the convention : \n",
    "\n",
    "$|0> =  \\begin{bmatrix} 1 \\\\ 0 \\end{bmatrix} $ , $|1> = \\begin{bmatrix} 0\\\\1 \\end{bmatrix} $\n",
    "\n",
    "Given the vector space framework postulated by quantum mechanics, the state $ |\\Psi> $ of a qubit can be expressed as a linear combination of the basis states chosen :\n",
    "$|\\Psi> = \\alpha|0> + \\beta|1>$\n",
    "where alpha and beta are complex number and normalized.\n",
    "\n",
    "### B. Quantum Measurment\n",
    "The amplitudes of the state $|\\Psi>$ can be manipulated by quantum gates, as we will se further below, but they also have a bearing on the linkage betwen the quantum and classical world. \n",
    "Although a qubit may reside in a superposition of two orthogonal states, when we want to observe or measure its value, it collapses into one of the two orthogonal states.\n",
    "\n",
    "After its measurement/observation, the orginial quantum state collapses to the measured state. Hence, the measurement irrevesibly alters theoriginal qbit state.\n",
    "\n",
    "### C. Phase\n",
    "The angle $\\theta$ mentioned is referred to as the *phase* of the quantum state. \n",
    "Specifically, we say that the state $ e^(i\\gamma)*|\\Psi>$ is equal to $|\\Psi>$ up to the global phase factor, $e^(i\\gamma)$, with $\\gamma$ being the global phase.\n",
    "The stattistics of measurement predicted for these two states are the same. \n",
    "The *relative phase $\\theta$* annot be neglected, and indeed it is critical to quantum computation.\n",
    "The realtive phase of a superposition is a measure - in the complex plane - of the angle between $\\alpha$ and$\\beta$. \n",
    "Two quantum states having same amplitude for each same basis, but having different phase represent different states.\n",
    "\n",
    "**Furthermore, the role of the relative phase is pivotal in creating the interference patterns exploited for instance in the construction of quantum algorithms. In fact, the state of a quantum system is a wave function that matches Schrödinger’s equation. Similar to classical wave mechanics, a pair of waves can interfere, either constructively or destructively, depending\n",
    "on the relative phases of the waves. When the resultant interference is constructive, it enhances the amplitude (hence, probability) of a particular state. By contrast, when it is destructive, it reduces the probability.**\n",
    "\n",
    "### D. Composite Quantum System\n",
    "In classical physics, the legitimate states of a system of $n$ objects, whose individual states can be described by a vector in a two-dimensional vector space, can be described by vectors in a vector space of $2$ dimensions. In quantum mechanics, the state space of a composite quantum system made up of $n$ quantum systems, each having states modeled by two-dimensional vectors, is much larger. ($2^n$) spaces.\n",
    "**Hence, if "
   ]
  }
 ],
 "metadata": {
  "language_info": {
   "name": "python"
  },
  "orig_nbformat": 4
 },
 "nbformat": 4,
 "nbformat_minor": 2
}
