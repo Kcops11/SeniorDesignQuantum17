{
 "cells": [
  {
   "cell_type": "code",
   "execution_count": 14,
   "id": "be0a84b5",
   "metadata": {},
   "outputs": [
    {
     "name": "stdout",
     "output_type": "stream",
     "text": [
      "Imports Success\n"
     ]
    }
   ],
   "source": [
    "import numpy as np\n",
    "from qiskit import QuantumCircuit, QuantumRegister, ClassicalRegister\n",
    "from qiskit import IBMQ, Aer, transpile, assemble\n",
    "from qiskit.visualization import plot_histogram, plot_bloch_multivector, array_to_latex\n",
    "from qiskit.extensions import Initialize\n",
    "#from qiskit.ignis.verification import marginal_counts\n",
    "from qiskit.quantum_info import random_statevector\n",
    "\n",
    "print(\"Imports Success\")\n"
   ]
  },
  {
   "cell_type": "code",
   "execution_count": 15,
   "id": "a5d8d4c5",
   "metadata": {},
   "outputs": [],
   "source": [
    "def create_bell_pair(qc, a, b):\n",
    "    \"\"\"Creates a bell pair in qc using qubits a & b\"\"\"\n",
    "    qc.h(a) # Put qubit a into state |+>\n",
    "    qc.cx(a,b) # CNOT with a as control and b as target"
   ]
  },
  {
   "cell_type": "code",
   "execution_count": 16,
   "id": "a609b671",
   "metadata": {},
   "outputs": [],
   "source": [
    "def alice_gates(qc, psi, a):\n",
    "    qc.cx(psi, a)\n",
    "    qc.h(psi)\n",
    "    "
   ]
  },
  {
   "cell_type": "code",
   "execution_count": 17,
   "id": "249986c5",
   "metadata": {},
   "outputs": [],
   "source": [
    "def measure_and_send(qc, a, b):\n",
    "    \"\"\"Measures qubits a & b and 'sends' the results to Bob\"\"\"\n",
    "    qc.barrier()\n",
    "    qc.measure(a,0)\n",
    "    qc.measure(b,1)"
   ]
  },
  {
   "cell_type": "code",
   "execution_count": 18,
   "id": "428254f2",
   "metadata": {},
   "outputs": [],
   "source": [
    "# This function takes a QuantumCircuit (qc), integer (qubit)\n",
    "# and ClassicalRegisters (crz & crx) to decide which gates to apply\n",
    "def bob_gates(qc, qubit, crz, crx):\n",
    "    # Here we use c_if to control our gates with a classical\n",
    "    # bit instead of a qubit\n",
    "    qc.x(qubit).c_if(crx, 1) # Apply gates if the registers \n",
    "    qc.z(qubit).c_if(crz, 1) # are in the state '1'"
   ]
  },
  {
   "cell_type": "code",
   "execution_count": 19,
   "id": "c30bff9f",
   "metadata": {},
   "outputs": [
    {
     "data": {
      "text/html": [
       "<pre style=\"word-wrap: normal;white-space: pre;background: #fff0;line-height: 1.1;font-family: &quot;Courier New&quot;,Courier,monospace\">                  ░      ┌───┐ ░ ┌─┐    ░               \n",
       "  q_0: ───────────░───■──┤ H ├─░─┤M├────░───────────────\n",
       "       ┌───┐      ░ ┌─┴─┐└───┘ ░ └╥┘┌─┐ ░               \n",
       "  q_1: ┤ H ├──■───░─┤ X ├──────░──╫─┤M├─░───────────────\n",
       "       └───┘┌─┴─┐ ░ └───┘      ░  ║ └╥┘ ░  ┌───┐  ┌───┐ \n",
       "  q_2: ─────┤ X ├─░────────────░──╫──╫──░──┤ X ├──┤ Z ├─\n",
       "            └───┘ ░            ░  ║  ║  ░  └─╥─┘  └─╥─┘ \n",
       "                                  ║  ║       ║   ┌──╨──┐\n",
       "crz: 1/═══════════════════════════╩══╬═══════╬═══╡ 0x1 ╞\n",
       "                                  0  ║    ┌──╨──┐└─────┘\n",
       "crx: 1/══════════════════════════════╩════╡ 0x1 ╞═══════\n",
       "                                     0    └─────┘       </pre>"
      ],
      "text/plain": [
       "                  ░      ┌───┐ ░ ┌─┐    ░               \n",
       "  q_0: ───────────░───■──┤ H ├─░─┤M├────░───────────────\n",
       "       ┌───┐      ░ ┌─┴─┐└───┘ ░ └╥┘┌─┐ ░               \n",
       "  q_1: ┤ H ├──■───░─┤ X ├──────░──╫─┤M├─░───────────────\n",
       "       └───┘┌─┴─┐ ░ └───┘      ░  ║ └╥┘ ░  ┌───┐  ┌───┐ \n",
       "  q_2: ─────┤ X ├─░────────────░──╫──╫──░──┤ X ├──┤ Z ├─\n",
       "            └───┘ ░            ░  ║  ║  ░  └─╥─┘  └─╥─┘ \n",
       "                                  ║  ║       ║   ┌──╨──┐\n",
       "crz: 1/═══════════════════════════╩══╬═══════╬═══╡ 0x1 ╞\n",
       "                                  0  ║    ┌──╨──┐└─────┘\n",
       "crx: 1/══════════════════════════════╩════╡ 0x1 ╞═══════\n",
       "                                     0    └─────┘       "
      ]
     },
     "execution_count": 19,
     "metadata": {},
     "output_type": "execute_result"
    }
   ],
   "source": [
    "## SETUP\n",
    "# Protocol uses 3 qubits and 2 classical bits in 2 different registers\n",
    "qr = QuantumRegister(3, name=\"q\")\n",
    "crz, crx = ClassicalRegister(1, name=\"crz\"), ClassicalRegister(1, name=\"crx\")\n",
    "teleportation_circuit = QuantumCircuit(qr, crz, crx)\n",
    "\n",
    "## STEP 1\n",
    "create_bell_pair(teleportation_circuit, 1, 2)\n",
    "\n",
    "## STEP 2\n",
    "teleportation_circuit.barrier() # Use barrier to separate steps\n",
    "alice_gates(teleportation_circuit, 0, 1)\n",
    "\n",
    "## STEP 3\n",
    "measure_and_send(teleportation_circuit, 0, 1)\n",
    "\n",
    "## STEP 4\n",
    "teleportation_circuit.barrier() # Use barrier to separate steps\n",
    "bob_gates(teleportation_circuit, 2, crz, crx)\n",
    "teleportation_circuit.draw()"
   ]
  },
  {
   "cell_type": "code",
   "execution_count": null,
   "id": "1de5ef5a",
   "metadata": {},
   "outputs": [],
   "source": []
  }
 ],
 "metadata": {
  "kernelspec": {
   "display_name": "Python 3 (ipykernel)",
   "language": "python",
   "name": "python3"
  },
  "language_info": {
   "codemirror_mode": {
    "name": "ipython",
    "version": 3
   },
   "file_extension": ".py",
   "mimetype": "text/x-python",
   "name": "python",
   "nbconvert_exporter": "python",
   "pygments_lexer": "ipython3",
   "version": "3.9.13"
  }
 },
 "nbformat": 4,
 "nbformat_minor": 5
}
